{
 "cells": [
  {
   "cell_type": "markdown",
   "id": "3347b360",
   "metadata": {},
   "source": [
    "1: Linear Regression – House Price Prediction"
   ]
  },
  {
   "cell_type": "markdown",
   "id": "36e0b174",
   "metadata": {},
   "source": [
    "Goal: Predict house prices based on features like area, number of rooms, location, etc."
   ]
  },
  {
   "cell_type": "code",
   "execution_count": 1,
   "id": "4cf21b24",
   "metadata": {},
   "outputs": [],
   "source": [
    "import pandas as pd\n",
    "import numpy as np"
   ]
  },
  {
   "cell_type": "code",
   "execution_count": 2,
   "id": "27916906",
   "metadata": {},
   "outputs": [],
   "source": [
    "df = pd.read_csv('train.csv')"
   ]
  },
  {
   "cell_type": "code",
   "execution_count": null,
   "id": "4e9df009",
   "metadata": {},
   "outputs": [],
   "source": []
  }
 ],
 "metadata": {
  "kernelspec": {
   "display_name": "Python 3",
   "language": "python",
   "name": "python3"
  },
  "language_info": {
   "codemirror_mode": {
    "name": "ipython",
    "version": 3
   },
   "file_extension": ".py",
   "mimetype": "text/x-python",
   "name": "python",
   "nbconvert_exporter": "python",
   "pygments_lexer": "ipython3",
   "version": "3.12.4"
  }
 },
 "nbformat": 4,
 "nbformat_minor": 5
}
